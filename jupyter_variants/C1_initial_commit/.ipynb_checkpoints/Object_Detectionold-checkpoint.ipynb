{
 "cells": [
  {
   "cell_type": "markdown",
   "metadata": {},
   "source": [
    "# Preparation"
   ]
  },
  {
   "cell_type": "code",
   "execution_count": null,
   "metadata": {
    "colab": {
     "base_uri": "https://localhost:8080/"
    },
    "id": "lMQwJ1N8WdeG",
    "outputId": "23a65c4c-1bad-4a0c-e271-4008ff469d7b"
   },
   "outputs": [],
   "source": [
    "# check GPU alocation\n",
    "!nvidia-smi -L"
   ]
  },
  {
   "cell_type": "code",
   "execution_count": null,
   "metadata": {
    "colab": {
     "base_uri": "https://localhost:8080/"
    },
    "id": "ddWn8a7MKUFC",
    "outputId": "dcfce351-2f88-4430-b742-acb20c2e8af2"
   },
   "outputs": [],
   "source": [
    "# connect google drive\n",
    "from google.colab import drive\n",
    "drive.mount('/content/drive')"
   ]
  },
  {
   "cell_type": "code",
   "execution_count": null,
   "metadata": {
    "colab": {
     "base_uri": "https://localhost:8080/"
    },
    "id": "XABnoABxHAC2",
    "outputId": "fc8d8bc6-3a03-41f4-d11b-2855750e1173"
   },
   "outputs": [],
   "source": [
    "# configure paths\n",
    "dataset_path = '/content/drive/MyDrive/JKU/objectDetection/bikeParts/datasets/camera on the chair'\n",
    "yolo_path = dataset_path + '/yolov5'\n",
    "print (yolo_path)"
   ]
  },
  {
   "cell_type": "markdown",
   "metadata": {
    "id": "CaSsaEjOb4Y8"
   },
   "source": [
    "## Installing YOLOv5"
   ]
  },
  {
   "cell_type": "markdown",
   "metadata": {
    "id": "Tjtles2kbycz"
   },
   "source": [
    "### Dangerous area"
   ]
  },
  {
   "cell_type": "code",
   "execution_count": null,
   "metadata": {
    "colab": {
     "base_uri": "https://localhost:8080/"
    },
    "id": "HzD4ec8LL6K4",
    "outputId": "ab827139-f58c-45a6-ec5c-7a2aac9e7daf"
   },
   "outputs": [],
   "source": [
    "# RUN ONLY ONCE!\n",
    "# clone yolo5\n",
    "%cd '{path}'\n",
    "!git clone https://github.com/ultralytics/yolov5"
   ]
  },
  {
   "cell_type": "markdown",
   "metadata": {},
   "source": [
    "### Installation"
   ]
  },
  {
   "cell_type": "code",
   "execution_count": null,
   "metadata": {
    "colab": {
     "base_uri": "https://localhost:8080/"
    },
    "id": "b0OMqojTNmhf",
    "outputId": "67e6f5a2-8272-4291-cce2-cedd72eda918"
   },
   "outputs": [],
   "source": [
    "# install dependencies\n",
    "%cd '{yolo_path}'\n",
    "!pip install -U -r requirements.txt"
   ]
  },
  {
   "cell_type": "code",
   "execution_count": null,
   "metadata": {
    "colab": {
     "base_uri": "https://localhost:8080/"
    },
    "id": "9IMecogxFAcm",
    "outputId": "3e8959b6-88b1-42ad-99b8-23c57e73721e"
   },
   "outputs": [],
   "source": [
    "!pip install albumentations==1.0.3"
   ]
  },
  {
   "cell_type": "code",
   "execution_count": null,
   "metadata": {
    "colab": {
     "base_uri": "https://localhost:8080/"
    },
    "id": "S_cCW-hPNjHY",
    "outputId": "c3fcb48a-3c75-4663-e1c6-635a35cb6f3a"
   },
   "outputs": [],
   "source": [
    "# %cd '{yolo_path}'\n",
    "# import utils\n",
    "# display = utils.notebook_init()  # checks\n",
    "import torch\n",
    "print('torch %s %s' % (torch.__version__, torch.cuda.get_device_properties(0) if torch.cuda.is_available() else 'CPU'))"
   ]
  },
  {
   "cell_type": "markdown",
   "metadata": {
    "id": "-qeXqvKeb-ZV"
   },
   "source": [
    "# Training"
   ]
  },
  {
   "cell_type": "code",
   "execution_count": null,
   "metadata": {
    "id": "SFoerh0rQs-C"
   },
   "outputs": [],
   "source": [
    "# run tensorboard to train data (optional)\n",
    "%load_ext tensorboard\n",
    "%tensorboard --logdir '{yolo_path}/runs/train'"
   ]
  },
  {
   "cell_type": "code",
   "execution_count": null,
   "metadata": {
    "colab": {
     "base_uri": "https://localhost:8080/"
    },
    "id": "TBJkILh-_4ek",
    "outputId": "e280df68-509e-4ab9-a810-9acb76a4d782"
   },
   "outputs": [],
   "source": [
    "\n",
    "# define hyper parameters\n",
    "model_weights = 'yolov5l6'\n",
    "model_batch = 10\n",
    "images_resolution = 640\n",
    "epochs = 300\n",
    "patience = 100\n",
    "conf_threshold = 0.25\n",
    "\n",
    "train_name = f'{model_weights}-{epochs}epochs-batch{model_batch}-resolution{images_resolution}-manual_augmentation'\n",
    "print(train_name)"
   ]
  },
  {
   "cell_type": "code",
   "execution_count": null,
   "metadata": {
    "colab": {
     "background_save": true,
     "base_uri": "https://localhost:8080/"
    },
    "id": "C_N14BObQ51J",
    "outputId": "aa36392b-5762-4817-eb12-220b0b17f8d3"
   },
   "outputs": [],
   "source": [
    "# run training\n",
    "%cd '{yolo_path}'\n",
    "!python train.py --img '{images_resolution}' --batch '{model_batch}' --epochs '{epochs}' --weights '{model_weights}.pt' --data '../train.yaml' --name '{train_name}' --patience '{patience}'  --cache --exist-ok\n"
   ]
  },
  {
   "cell_type": "markdown",
   "metadata": {
    "id": "u1rU-len4Wk5"
   },
   "source": [
    "## Detection"
   ]
  },
  {
   "cell_type": "code",
   "execution_count": null,
   "metadata": {
    "colab": {
     "background_save": true
    },
    "id": "fz-M1AkI-kje",
    "outputId": "0311311c-a079-4ff1-8321-488906faf219"
   },
   "outputs": [],
   "source": [
    "# detection on test data\n",
    "%cd '{yolo_path}'\n",
    "!python detect.py --line-thickness 2 --weights 'runs/train/{train_name}/weights/best.pt' --img {images_resolution} --source ../datasets/test/images --conf {conf_threshold} --name '{train_name}_conf{conf_threshold}'  --save-txt --save-conf"
   ]
  },
  {
   "cell_type": "markdown",
   "metadata": {
    "id": "IVrTUvrpaDZg"
   },
   "source": [
    "## Validation"
   ]
  },
  {
   "cell_type": "code",
   "execution_count": null,
   "metadata": {
    "colab": {
     "background_save": true
    },
    "id": "q6vk0Jbnefs2",
    "outputId": "a9e66926-3cdb-4625-a0d1-39d107ed1a80"
   },
   "outputs": [],
   "source": [
    "%cd '{yolo_path}'\n",
    "!python val.py --weights 'runs/train/{train_name}/weights/best.pt' --img '{images_resolution}' --name '{train_name}' --data ../datasets/test.yaml"
   ]
  },
  {
   "cell_type": "markdown",
   "metadata": {
    "id": "hQwtPm1UCdH7"
   },
   "source": [
    "## Export"
   ]
  },
  {
   "cell_type": "code",
   "execution_count": null,
   "metadata": {
    "id": "XN7zoiuxCGU9"
   },
   "outputs": [],
   "source": [
    "%cd '{yolo_path}'\n",
    "!python export.py --weights 'runs/train/{train_name}/weights/best.pt' --include saved_model --img '{images_resolution}' --nms"
   ]
  },
  {
   "cell_type": "markdown",
   "metadata": {
    "id": "5-XaTFXe6NsI"
   },
   "source": [
    "## Send notification email at end of execution"
   ]
  },
  {
   "cell_type": "code",
   "execution_count": null,
   "metadata": {
    "id": "VRm-61xY6Rvs"
   },
   "outputs": [],
   "source": [
    "import smtplib, ssl\n",
    "\n",
    "port = 465  # For SSL\n",
    "smtp_server = \"smtp.gmail.com\"\n",
    "sender_email = \"sender@jku.at\"\n",
    "receiver_email = \"receiver@jku.at\"\n",
    "password = \"*********\"\n",
    "message = f\"\"\"From: From <>\n",
    "To: To <>\n",
    "Subject: Colab end\n",
    "\n",
    "Your code execution was finished!\n",
    "Name: {train_name}\n",
    "\n",
    "\"\"\"\n",
    "\n",
    "try:\n",
    "  context = ssl.create_default_context()\n",
    "  with smtplib.SMTP_SSL(smtp_server, port, context=context) as server:\n",
    "      server.login(sender_email, password)\n",
    "      server.sendmail(sender_email, receiver_email, message)\n",
    "except Exception as error:\n",
    "  print('Something went wrong!')\n",
    "  print(error)"
   ]
  },
  {
   "cell_type": "markdown",
   "metadata": {
    "id": "o6H_M0mesty7"
   },
   "source": [
    "# Disconnect environment"
   ]
  },
  {
   "cell_type": "code",
   "execution_count": null,
   "metadata": {
    "id": "_oYxkOoyswZm"
   },
   "outputs": [],
   "source": [
    "!pkill --oldest"
   ]
  }
 ],
 "metadata": {
  "accelerator": "GPU",
  "colab": {
   "collapsed_sections": [
    "Tjtles2kbycz",
    "CaSsaEjOb4Y8",
    "u1rU-len4Wk5",
    "IVrTUvrpaDZg",
    "hQwtPm1UCdH7",
    "5-XaTFXe6NsI",
    "o6H_M0mesty7"
   ],
   "machine_shape": "hm",
   "provenance": []
  },
  "gpuClass": "standard",
  "kernelspec": {
   "display_name": "Python 3 (ipykernel)",
   "language": "python",
   "name": "python3"
  },
  "language_info": {
   "codemirror_mode": {
    "name": "ipython",
    "version": 3
   },
   "file_extension": ".py",
   "mimetype": "text/x-python",
   "name": "python",
   "nbconvert_exporter": "python",
   "pygments_lexer": "ipython3",
   "version": "3.8.5"
  }
 },
 "nbformat": 4,
 "nbformat_minor": 1
}
